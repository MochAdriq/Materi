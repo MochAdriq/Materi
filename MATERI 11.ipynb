{
 "cells": [
  {
   "cell_type": "code",
   "execution_count": 49,
   "id": "e9aa966c",
   "metadata": {},
   "outputs": [
    {
     "name": "stdout",
     "output_type": "stream",
     "text": [
      "Hello In python Langueage\n"
     ]
    }
   ],
   "source": [
    "def helloPython():\n",
    "    print('Hello In python Langueage')\n",
    "\n",
    "helloPython()"
   ]
  },
  {
   "cell_type": "code",
   "execution_count": 52,
   "id": "a5c16cc3",
   "metadata": {},
   "outputs": [
    {
     "name": "stdout",
     "output_type": "stream",
     "text": [
      "kamu nanya\n"
     ]
    }
   ],
   "source": [
    "def fullName(firstName, lastName):\n",
    "    print(f\"{firstName} {lastName}\")\n",
    "\n",
    "fullName(\"kamu\",\"nanya\")"
   ]
  },
  {
   "cell_type": "code",
   "execution_count": 61,
   "id": "d4a7366d",
   "metadata": {},
   "outputs": [
    {
     "name": "stdout",
     "output_type": "stream",
     "text": [
      "kamu nanya\n"
     ]
    },
    {
     "data": {
      "text/plain": [
       "'S.Kom'"
      ]
     },
     "execution_count": 61,
     "metadata": {},
     "output_type": "execute_result"
    }
   ],
   "source": [
    "def getTitle(title='S.Kom'):\n",
    "    return title\n",
    "\n",
    "def fullName(firstName, lastName):\n",
    "    print(f\"{firstName} {lastName}\")\n",
    "\n",
    "fullName(\"kamu\",\"nanya\")\n",
    "getTitle()"
   ]
  },
  {
   "cell_type": "code",
   "execution_count": 76,
   "id": "e3c5e633",
   "metadata": {},
   "outputs": [
    {
     "data": {
      "text/plain": [
       "3"
      ]
     },
     "execution_count": 76,
     "metadata": {},
     "output_type": "execute_result"
    }
   ],
   "source": [
    "def maxValue(val_1, val_2, val_3):\n",
    "    if val_1 >= val_2 and val_1 >= val_3:\n",
    "        return val_1\n",
    "    elif val_2 >= val_1 and val_2 >= val_3:\n",
    "        return val_2\n",
    "    elif val_3 >= val_2 and val_3 >= val_1:\n",
    "        return val_3\n",
    "    \n",
    "maxValue(1,2,3)"
   ]
  },
  {
   "cell_type": "code",
   "execution_count": 83,
   "id": "b2db26dd",
   "metadata": {},
   "outputs": [
    {
     "name": "stdout",
     "output_type": "stream",
     "text": [
      "21.5\n"
     ]
    }
   ],
   "source": [
    "def luasLingkaran(diameter,phi=3.14): \n",
    "    r = diameter/2\n",
    "    return phi * r * r\n",
    "def luasPersegi(s):\n",
    "    return s * s \n",
    "\n",
    "sisi = 10\n",
    "diameter = 10\n",
    "areaArsiran =  luasPersegi(diameter) -luasLingkaran(sisi)\n",
    "\n",
    "print(areaArsiran)"
   ]
  },
  {
   "cell_type": "code",
   "execution_count": 101,
   "id": "9a3327ea",
   "metadata": {},
   "outputs": [
    {
     "data": {
      "text/plain": [
       "400"
      ]
     },
     "execution_count": 101,
     "metadata": {},
     "output_type": "execute_result"
    }
   ],
   "source": [
    "#nmr1\n",
    "nilai=[100,100,100,100]\n",
    "def total(nums):\n",
    "    total= 0\n",
    "    for n in nums:\n",
    "        total +=n\n",
    "        \n",
    "    return total\n",
    "total(nilai)"
   ]
  },
  {
   "cell_type": "code",
   "execution_count": 115,
   "id": "8610e9df",
   "metadata": {},
   "outputs": [
    {
     "name": "stdout",
     "output_type": "stream",
     "text": [
      "55\n"
     ]
    }
   ],
   "source": [
    "#nmr2\n",
    "nilai= [10,20,45,55]\n",
    "\n",
    "def nilaiMax(nomer):\n",
    "    terbesar = 0\n",
    "    for i in nomer:\n",
    "        if i > terbesar:\n",
    "            terbesar = i\n",
    "    return terbesar\n",
    "\n",
    "print(nilaiMax(nilai))"
   ]
  },
  {
   "cell_type": "code",
   "execution_count": 121,
   "id": "31bd7263",
   "metadata": {},
   "outputs": [
    {
     "name": "stdout",
     "output_type": "stream",
     "text": [
      "po\n",
      "100\n"
     ]
    }
   ],
   "source": [
    "nilaiOrang = [\n",
    "    {\n",
    "        \"nama\" : \"po\",\n",
    "        \"nilai\" : 100\n",
    "    },\n",
    "    {\n",
    "        \"nama\" : \"shifu\",\n",
    "        \"nilai\" : 80\n",
    "    },\n",
    "    {\n",
    "        \"nama\" : \"crane\",\n",
    "        \"nilai\" : 75\n",
    "    },\n",
    "    {\n",
    "        \"nama\" : \"tiger\",\n",
    "        \"nilai\" : 40\n",
    "    }\n",
    "]\n",
    "\n",
    "def maxValue(nilaiOrang):\n",
    "    nilaiTerbesar = 0\n",
    "    orang_terbesar= ''\n",
    "    for orang in nilaiOrang:\n",
    "        nilai = orang.get(\"nilai\")\n",
    "        nama = orang.get(\"nama\")\n",
    "        \n",
    "        if nilai > nilaiTerbesar :\n",
    "            orang_terbesar = nama\n",
    "            nilaiTerbesar =  nilai\n",
    "            \n",
    "        return {\n",
    "            \"nama\": orang_terbesar,\n",
    "            \"nilai\": nilaiTerbesar\n",
    "        }\n",
    "    \n",
    "orang = maxValue(nilaiOrang)\n",
    "    \n",
    "print(orang.get(\"nama\"))\n",
    "print(orang.get(\"nilai\"))"
   ]
  }
 ],
 "metadata": {
  "kernelspec": {
   "display_name": "Python 3 (ipykernel)",
   "language": "python",
   "name": "python3"
  },
  "language_info": {
   "codemirror_mode": {
    "name": "ipython",
    "version": 3
   },
   "file_extension": ".py",
   "mimetype": "text/x-python",
   "name": "python",
   "nbconvert_exporter": "python",
   "pygments_lexer": "ipython3",
   "version": "3.9.12"
  }
 },
 "nbformat": 4,
 "nbformat_minor": 5
}
